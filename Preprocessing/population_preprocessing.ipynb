{
  "nbformat": 4,
  "nbformat_minor": 0,
  "metadata": {
    "colab": {
      "provenance": []
    },
    "kernelspec": {
      "name": "python3",
      "display_name": "Python 3"
    },
    "language_info": {
      "name": "python"
    }
  },
  "cells": [
    {
      "cell_type": "code",
      "execution_count": 38,
      "metadata": {
        "id": "6CGOOntfTARi"
      },
      "outputs": [],
      "source": [
        "import pandas as pd\n",
        "import numpy as np"
      ]
    },
    {
      "cell_type": "code",
      "source": [
        "people = pd.read_csv('/content/202402_연령별인구현황_5단위.csv', encoding = 'cp949')\n",
        "basic = pd.read_csv('/content/강서구_기초생활수급자 동별 현황_20200531.csv')\n",
        "mov_2018 = pd.read_csv('/content/강서구_유동인구_2018.csv')\n",
        "mov_2019 = pd.read_csv('/content/강서구_유동인구_2019.csv')\n",
        "one_man = pd.read_csv('/content/서울특별시 강서구_행정동별 1인가구 현황_2018.csv', encoding = 'cp949')"
      ],
      "metadata": {
        "id": "UX3dFdmgTQHi"
      },
      "execution_count": 39,
      "outputs": []
    },
    {
      "cell_type": "markdown",
      "source": [
        "# 데이터 전처리"
      ],
      "metadata": {
        "id": "un6yXjphPTM5"
      }
    },
    {
      "cell_type": "markdown",
      "source": [
        "## 인구 현황 전처리"
      ],
      "metadata": {
        "id": "exgZnvqNPuX4"
      }
    },
    {
      "cell_type": "code",
      "source": [
        "# '행정구역' 컬럼에서 \"서울특별시 서울특별시 강서구\" 문자열을 제거합니다.\n",
        "df_1 = people.copy()\n",
        "\n",
        "# '행정구역' 컬럼에서 \"서울특별시 서울특별시 강서구\" 문자열을 제거합니다.\n",
        "df_1['행정구역'] = df_1['행정구역'].str.replace(\"서울특별시 강서구\", \"\")\n",
        "\n",
        "# 컬럼 이름에서 \"2024년02월_\" 부분을 제거합니다.\n",
        "df_1.columns = [col.replace(\"2024년02월_\", \"\") for col in df_1.columns]\n",
        "\n",
        "df_1.head()"
      ],
      "metadata": {
        "id": "-AL3GBxMTrWB",
        "colab": {
          "base_uri": "https://localhost:8080/",
          "height": 548
        },
        "outputId": "3f448b23-e620-46b9-c99a-c38991a087e8"
      },
      "execution_count": 40,
      "outputs": [
        {
          "output_type": "execute_result",
          "data": {
            "text/plain": [
              "     행정구역 거주자_총인구수 거주자_연령구간인구수 거주자_0~4세 거주자_5~9세 거주자_10~14세 거주자_15~19세  \\\n",
              "0  서울특별시   558,886     558,886   13,150   17,485     20,343     21,196   \n",
              "1     염창동   41,098      41,098    1,457    1,944      2,264      2,083   \n",
              "2   등촌제1동   24,836      24,836      689      551        507        616   \n",
              "3   등촌제2동   19,165      19,165      413      528        654        733   \n",
              "4   등촌제3동   29,182      29,182      647      756        732        878   \n",
              "\n",
              "  거주자_20~24세 거주자_25~29세 거주자_30~34세  ... 여_거주자_55~59세 여_거주자_60~64세  \\\n",
              "0     29,199     49,218     53,295  ...       20,474       22,602   \n",
              "1      2,165      3,088      3,717  ...        1,358        1,325   \n",
              "2      1,352      3,317      3,869  ...          762          740   \n",
              "3      1,041      1,642      1,842  ...          812          872   \n",
              "4      1,344      1,871      2,465  ...        1,273        1,521   \n",
              "\n",
              "  여_거주자_65~69세 여_거주자_70~74세 여_거주자_75~79세 여_거주자_80~84세 여_거주자_85~89세  \\\n",
              "0       20,618       13,698        9,819        7,022        4,011   \n",
              "1        1,014          662          400          324          161   \n",
              "2          581          376          295          260          210   \n",
              "3          736          508          296          213          124   \n",
              "4        1,469          898          683          597          444   \n",
              "\n",
              "  여_거주자_90~94세 여_거주자_95~99세 여_거주자_100세 이상  \n",
              "0        1,628          444            65  \n",
              "1           64           16             1  \n",
              "2           93           28             4  \n",
              "3           58           14             2  \n",
              "4          180           51             7  \n",
              "\n",
              "[5 rows x 70 columns]"
            ],
            "text/html": [
              "\n",
              "  <div id=\"df-412edc00-7b61-4697-9886-e3afe6a8b172\" class=\"colab-df-container\">\n",
              "    <div>\n",
              "<style scoped>\n",
              "    .dataframe tbody tr th:only-of-type {\n",
              "        vertical-align: middle;\n",
              "    }\n",
              "\n",
              "    .dataframe tbody tr th {\n",
              "        vertical-align: top;\n",
              "    }\n",
              "\n",
              "    .dataframe thead th {\n",
              "        text-align: right;\n",
              "    }\n",
              "</style>\n",
              "<table border=\"1\" class=\"dataframe\">\n",
              "  <thead>\n",
              "    <tr style=\"text-align: right;\">\n",
              "      <th></th>\n",
              "      <th>행정구역</th>\n",
              "      <th>거주자_총인구수</th>\n",
              "      <th>거주자_연령구간인구수</th>\n",
              "      <th>거주자_0~4세</th>\n",
              "      <th>거주자_5~9세</th>\n",
              "      <th>거주자_10~14세</th>\n",
              "      <th>거주자_15~19세</th>\n",
              "      <th>거주자_20~24세</th>\n",
              "      <th>거주자_25~29세</th>\n",
              "      <th>거주자_30~34세</th>\n",
              "      <th>...</th>\n",
              "      <th>여_거주자_55~59세</th>\n",
              "      <th>여_거주자_60~64세</th>\n",
              "      <th>여_거주자_65~69세</th>\n",
              "      <th>여_거주자_70~74세</th>\n",
              "      <th>여_거주자_75~79세</th>\n",
              "      <th>여_거주자_80~84세</th>\n",
              "      <th>여_거주자_85~89세</th>\n",
              "      <th>여_거주자_90~94세</th>\n",
              "      <th>여_거주자_95~99세</th>\n",
              "      <th>여_거주자_100세 이상</th>\n",
              "    </tr>\n",
              "  </thead>\n",
              "  <tbody>\n",
              "    <tr>\n",
              "      <th>0</th>\n",
              "      <td>서울특별시</td>\n",
              "      <td>558,886</td>\n",
              "      <td>558,886</td>\n",
              "      <td>13,150</td>\n",
              "      <td>17,485</td>\n",
              "      <td>20,343</td>\n",
              "      <td>21,196</td>\n",
              "      <td>29,199</td>\n",
              "      <td>49,218</td>\n",
              "      <td>53,295</td>\n",
              "      <td>...</td>\n",
              "      <td>20,474</td>\n",
              "      <td>22,602</td>\n",
              "      <td>20,618</td>\n",
              "      <td>13,698</td>\n",
              "      <td>9,819</td>\n",
              "      <td>7,022</td>\n",
              "      <td>4,011</td>\n",
              "      <td>1,628</td>\n",
              "      <td>444</td>\n",
              "      <td>65</td>\n",
              "    </tr>\n",
              "    <tr>\n",
              "      <th>1</th>\n",
              "      <td>염창동</td>\n",
              "      <td>41,098</td>\n",
              "      <td>41,098</td>\n",
              "      <td>1,457</td>\n",
              "      <td>1,944</td>\n",
              "      <td>2,264</td>\n",
              "      <td>2,083</td>\n",
              "      <td>2,165</td>\n",
              "      <td>3,088</td>\n",
              "      <td>3,717</td>\n",
              "      <td>...</td>\n",
              "      <td>1,358</td>\n",
              "      <td>1,325</td>\n",
              "      <td>1,014</td>\n",
              "      <td>662</td>\n",
              "      <td>400</td>\n",
              "      <td>324</td>\n",
              "      <td>161</td>\n",
              "      <td>64</td>\n",
              "      <td>16</td>\n",
              "      <td>1</td>\n",
              "    </tr>\n",
              "    <tr>\n",
              "      <th>2</th>\n",
              "      <td>등촌제1동</td>\n",
              "      <td>24,836</td>\n",
              "      <td>24,836</td>\n",
              "      <td>689</td>\n",
              "      <td>551</td>\n",
              "      <td>507</td>\n",
              "      <td>616</td>\n",
              "      <td>1,352</td>\n",
              "      <td>3,317</td>\n",
              "      <td>3,869</td>\n",
              "      <td>...</td>\n",
              "      <td>762</td>\n",
              "      <td>740</td>\n",
              "      <td>581</td>\n",
              "      <td>376</td>\n",
              "      <td>295</td>\n",
              "      <td>260</td>\n",
              "      <td>210</td>\n",
              "      <td>93</td>\n",
              "      <td>28</td>\n",
              "      <td>4</td>\n",
              "    </tr>\n",
              "    <tr>\n",
              "      <th>3</th>\n",
              "      <td>등촌제2동</td>\n",
              "      <td>19,165</td>\n",
              "      <td>19,165</td>\n",
              "      <td>413</td>\n",
              "      <td>528</td>\n",
              "      <td>654</td>\n",
              "      <td>733</td>\n",
              "      <td>1,041</td>\n",
              "      <td>1,642</td>\n",
              "      <td>1,842</td>\n",
              "      <td>...</td>\n",
              "      <td>812</td>\n",
              "      <td>872</td>\n",
              "      <td>736</td>\n",
              "      <td>508</td>\n",
              "      <td>296</td>\n",
              "      <td>213</td>\n",
              "      <td>124</td>\n",
              "      <td>58</td>\n",
              "      <td>14</td>\n",
              "      <td>2</td>\n",
              "    </tr>\n",
              "    <tr>\n",
              "      <th>4</th>\n",
              "      <td>등촌제3동</td>\n",
              "      <td>29,182</td>\n",
              "      <td>29,182</td>\n",
              "      <td>647</td>\n",
              "      <td>756</td>\n",
              "      <td>732</td>\n",
              "      <td>878</td>\n",
              "      <td>1,344</td>\n",
              "      <td>1,871</td>\n",
              "      <td>2,465</td>\n",
              "      <td>...</td>\n",
              "      <td>1,273</td>\n",
              "      <td>1,521</td>\n",
              "      <td>1,469</td>\n",
              "      <td>898</td>\n",
              "      <td>683</td>\n",
              "      <td>597</td>\n",
              "      <td>444</td>\n",
              "      <td>180</td>\n",
              "      <td>51</td>\n",
              "      <td>7</td>\n",
              "    </tr>\n",
              "  </tbody>\n",
              "</table>\n",
              "<p>5 rows × 70 columns</p>\n",
              "</div>\n",
              "    <div class=\"colab-df-buttons\">\n",
              "\n",
              "  <div class=\"colab-df-container\">\n",
              "    <button class=\"colab-df-convert\" onclick=\"convertToInteractive('df-412edc00-7b61-4697-9886-e3afe6a8b172')\"\n",
              "            title=\"Convert this dataframe to an interactive table.\"\n",
              "            style=\"display:none;\">\n",
              "\n",
              "  <svg xmlns=\"http://www.w3.org/2000/svg\" height=\"24px\" viewBox=\"0 -960 960 960\">\n",
              "    <path d=\"M120-120v-720h720v720H120Zm60-500h600v-160H180v160Zm220 220h160v-160H400v160Zm0 220h160v-160H400v160ZM180-400h160v-160H180v160Zm440 0h160v-160H620v160ZM180-180h160v-160H180v160Zm440 0h160v-160H620v160Z\"/>\n",
              "  </svg>\n",
              "    </button>\n",
              "\n",
              "  <style>\n",
              "    .colab-df-container {\n",
              "      display:flex;\n",
              "      gap: 12px;\n",
              "    }\n",
              "\n",
              "    .colab-df-convert {\n",
              "      background-color: #E8F0FE;\n",
              "      border: none;\n",
              "      border-radius: 50%;\n",
              "      cursor: pointer;\n",
              "      display: none;\n",
              "      fill: #1967D2;\n",
              "      height: 32px;\n",
              "      padding: 0 0 0 0;\n",
              "      width: 32px;\n",
              "    }\n",
              "\n",
              "    .colab-df-convert:hover {\n",
              "      background-color: #E2EBFA;\n",
              "      box-shadow: 0px 1px 2px rgba(60, 64, 67, 0.3), 0px 1px 3px 1px rgba(60, 64, 67, 0.15);\n",
              "      fill: #174EA6;\n",
              "    }\n",
              "\n",
              "    .colab-df-buttons div {\n",
              "      margin-bottom: 4px;\n",
              "    }\n",
              "\n",
              "    [theme=dark] .colab-df-convert {\n",
              "      background-color: #3B4455;\n",
              "      fill: #D2E3FC;\n",
              "    }\n",
              "\n",
              "    [theme=dark] .colab-df-convert:hover {\n",
              "      background-color: #434B5C;\n",
              "      box-shadow: 0px 1px 3px 1px rgba(0, 0, 0, 0.15);\n",
              "      filter: drop-shadow(0px 1px 2px rgba(0, 0, 0, 0.3));\n",
              "      fill: #FFFFFF;\n",
              "    }\n",
              "  </style>\n",
              "\n",
              "    <script>\n",
              "      const buttonEl =\n",
              "        document.querySelector('#df-412edc00-7b61-4697-9886-e3afe6a8b172 button.colab-df-convert');\n",
              "      buttonEl.style.display =\n",
              "        google.colab.kernel.accessAllowed ? 'block' : 'none';\n",
              "\n",
              "      async function convertToInteractive(key) {\n",
              "        const element = document.querySelector('#df-412edc00-7b61-4697-9886-e3afe6a8b172');\n",
              "        const dataTable =\n",
              "          await google.colab.kernel.invokeFunction('convertToInteractive',\n",
              "                                                    [key], {});\n",
              "        if (!dataTable) return;\n",
              "\n",
              "        const docLinkHtml = 'Like what you see? Visit the ' +\n",
              "          '<a target=\"_blank\" href=https://colab.research.google.com/notebooks/data_table.ipynb>data table notebook</a>'\n",
              "          + ' to learn more about interactive tables.';\n",
              "        element.innerHTML = '';\n",
              "        dataTable['output_type'] = 'display_data';\n",
              "        await google.colab.output.renderOutput(dataTable, element);\n",
              "        const docLink = document.createElement('div');\n",
              "        docLink.innerHTML = docLinkHtml;\n",
              "        element.appendChild(docLink);\n",
              "      }\n",
              "    </script>\n",
              "  </div>\n",
              "\n",
              "\n",
              "<div id=\"df-2d270c45-5d5e-4306-866e-e2c3648b7c10\">\n",
              "  <button class=\"colab-df-quickchart\" onclick=\"quickchart('df-2d270c45-5d5e-4306-866e-e2c3648b7c10')\"\n",
              "            title=\"Suggest charts\"\n",
              "            style=\"display:none;\">\n",
              "\n",
              "<svg xmlns=\"http://www.w3.org/2000/svg\" height=\"24px\"viewBox=\"0 0 24 24\"\n",
              "     width=\"24px\">\n",
              "    <g>\n",
              "        <path d=\"M19 3H5c-1.1 0-2 .9-2 2v14c0 1.1.9 2 2 2h14c1.1 0 2-.9 2-2V5c0-1.1-.9-2-2-2zM9 17H7v-7h2v7zm4 0h-2V7h2v10zm4 0h-2v-4h2v4z\"/>\n",
              "    </g>\n",
              "</svg>\n",
              "  </button>\n",
              "\n",
              "<style>\n",
              "  .colab-df-quickchart {\n",
              "      --bg-color: #E8F0FE;\n",
              "      --fill-color: #1967D2;\n",
              "      --hover-bg-color: #E2EBFA;\n",
              "      --hover-fill-color: #174EA6;\n",
              "      --disabled-fill-color: #AAA;\n",
              "      --disabled-bg-color: #DDD;\n",
              "  }\n",
              "\n",
              "  [theme=dark] .colab-df-quickchart {\n",
              "      --bg-color: #3B4455;\n",
              "      --fill-color: #D2E3FC;\n",
              "      --hover-bg-color: #434B5C;\n",
              "      --hover-fill-color: #FFFFFF;\n",
              "      --disabled-bg-color: #3B4455;\n",
              "      --disabled-fill-color: #666;\n",
              "  }\n",
              "\n",
              "  .colab-df-quickchart {\n",
              "    background-color: var(--bg-color);\n",
              "    border: none;\n",
              "    border-radius: 50%;\n",
              "    cursor: pointer;\n",
              "    display: none;\n",
              "    fill: var(--fill-color);\n",
              "    height: 32px;\n",
              "    padding: 0;\n",
              "    width: 32px;\n",
              "  }\n",
              "\n",
              "  .colab-df-quickchart:hover {\n",
              "    background-color: var(--hover-bg-color);\n",
              "    box-shadow: 0 1px 2px rgba(60, 64, 67, 0.3), 0 1px 3px 1px rgba(60, 64, 67, 0.15);\n",
              "    fill: var(--button-hover-fill-color);\n",
              "  }\n",
              "\n",
              "  .colab-df-quickchart-complete:disabled,\n",
              "  .colab-df-quickchart-complete:disabled:hover {\n",
              "    background-color: var(--disabled-bg-color);\n",
              "    fill: var(--disabled-fill-color);\n",
              "    box-shadow: none;\n",
              "  }\n",
              "\n",
              "  .colab-df-spinner {\n",
              "    border: 2px solid var(--fill-color);\n",
              "    border-color: transparent;\n",
              "    border-bottom-color: var(--fill-color);\n",
              "    animation:\n",
              "      spin 1s steps(1) infinite;\n",
              "  }\n",
              "\n",
              "  @keyframes spin {\n",
              "    0% {\n",
              "      border-color: transparent;\n",
              "      border-bottom-color: var(--fill-color);\n",
              "      border-left-color: var(--fill-color);\n",
              "    }\n",
              "    20% {\n",
              "      border-color: transparent;\n",
              "      border-left-color: var(--fill-color);\n",
              "      border-top-color: var(--fill-color);\n",
              "    }\n",
              "    30% {\n",
              "      border-color: transparent;\n",
              "      border-left-color: var(--fill-color);\n",
              "      border-top-color: var(--fill-color);\n",
              "      border-right-color: var(--fill-color);\n",
              "    }\n",
              "    40% {\n",
              "      border-color: transparent;\n",
              "      border-right-color: var(--fill-color);\n",
              "      border-top-color: var(--fill-color);\n",
              "    }\n",
              "    60% {\n",
              "      border-color: transparent;\n",
              "      border-right-color: var(--fill-color);\n",
              "    }\n",
              "    80% {\n",
              "      border-color: transparent;\n",
              "      border-right-color: var(--fill-color);\n",
              "      border-bottom-color: var(--fill-color);\n",
              "    }\n",
              "    90% {\n",
              "      border-color: transparent;\n",
              "      border-bottom-color: var(--fill-color);\n",
              "    }\n",
              "  }\n",
              "</style>\n",
              "\n",
              "  <script>\n",
              "    async function quickchart(key) {\n",
              "      const quickchartButtonEl =\n",
              "        document.querySelector('#' + key + ' button');\n",
              "      quickchartButtonEl.disabled = true;  // To prevent multiple clicks.\n",
              "      quickchartButtonEl.classList.add('colab-df-spinner');\n",
              "      try {\n",
              "        const charts = await google.colab.kernel.invokeFunction(\n",
              "            'suggestCharts', [key], {});\n",
              "      } catch (error) {\n",
              "        console.error('Error during call to suggestCharts:', error);\n",
              "      }\n",
              "      quickchartButtonEl.classList.remove('colab-df-spinner');\n",
              "      quickchartButtonEl.classList.add('colab-df-quickchart-complete');\n",
              "    }\n",
              "    (() => {\n",
              "      let quickchartButtonEl =\n",
              "        document.querySelector('#df-2d270c45-5d5e-4306-866e-e2c3648b7c10 button');\n",
              "      quickchartButtonEl.style.display =\n",
              "        google.colab.kernel.accessAllowed ? 'block' : 'none';\n",
              "    })();\n",
              "  </script>\n",
              "</div>\n",
              "\n",
              "    </div>\n",
              "  </div>\n"
            ],
            "application/vnd.google.colaboratory.intrinsic+json": {
              "type": "dataframe",
              "variable_name": "df_1"
            }
          },
          "metadata": {},
          "execution_count": 40
        }
      ]
    },
    {
      "cell_type": "markdown",
      "source": [
        "### 연령별 인구 현황 총합, 남, 여 분리"
      ],
      "metadata": {
        "id": "7uz7NuVVPYE8"
      }
    },
    {
      "cell_type": "code",
      "source": [
        "df_total = df_1.iloc[:,:24]\n",
        "df_man = df_1.iloc[:,24:47]\n",
        "df_woman = df_1.iloc[:,47:70]"
      ],
      "metadata": {
        "id": "ghJcWWJEUjRH"
      },
      "execution_count": 41,
      "outputs": []
    },
    {
      "cell_type": "code",
      "source": [
        "# '행정 구역' 컬럼 추출\n",
        "행정구역 = df_1.iloc[:, 0]\n",
        "\n",
        "# 앞서 생성한 데이터 프레임에 '행정 구역' 컬럼을 앞에 추가\n",
        "df_man.insert(0, '행정구역', 행정구역)\n",
        "df_woman.insert(0, '행정구역', 행정구역)"
      ],
      "metadata": {
        "id": "RdY9WaS9XaDS"
      },
      "execution_count": 42,
      "outputs": []
    },
    {
      "cell_type": "code",
      "source": [
        "df_man.at[0, '행정구역'] = '서울특별시 강서구'\n",
        "df_woman.at[0, '행정구역'] = '서울특별시 강서구'\n",
        "df_total.at[0, '행정구역'] = '서울특별시 강서구'"
      ],
      "metadata": {
        "id": "uEazheFtcc1n"
      },
      "execution_count": 43,
      "outputs": []
    },
    {
      "cell_type": "code",
      "source": [
        "# 각 데이터 프레임을 CSV 파일로 저장합니다. 인코딩은 한국어 데이터를 위해 'utf-8-sig'를 사용합니다.\n",
        "df_total.to_csv('df_total.csv', index=False, encoding='utf-8-sig')\n",
        "df_man.to_csv('df_man.csv', index=False, encoding='utf-8-sig')\n",
        "df_woman.to_csv('df_woman.csv', index=False, encoding='utf-8-sig')"
      ],
      "metadata": {
        "id": "1EzEe6TCWDRD"
      },
      "execution_count": 44,
      "outputs": []
    },
    {
      "cell_type": "markdown",
      "source": [
        "### 데이터 병합용 인구 현황 데이터 생성"
      ],
      "metadata": {
        "id": "gqtRgD6SPmki"
      }
    },
    {
      "cell_type": "code",
      "source": [
        "import pandas as pd\n",
        "\n",
        "# df_total에서 앞의 3개 컬럼 선택\n",
        "df_total_selected = df_total.iloc[:, :3]\n",
        "\n",
        "# df_woman에서 2, 3번째 컬럼 선택 (파이썬에서 인덱스는 0부터 시작하므로 1, 2를 사용)\n",
        "df_woman_selected = df_woman.iloc[:, [1, 2]]\n",
        "\n",
        "# df_man에서 2, 3번째 컬럼 선택\n",
        "df_man_selected = df_man.iloc[:, [1, 2]]\n",
        "\n",
        "# 세 데이터 프레임을 가로로 결합\n",
        "df_concat = pd.concat([df_total_selected, df_woman_selected, df_man_selected], axis=1)\n",
        "\n",
        "# 결과 확인\n",
        "df_concat.to_csv('df_concat.csv', index=False, encoding='utf-8-sig')"
      ],
      "metadata": {
        "id": "fRU9j9alW-7Y"
      },
      "execution_count": 45,
      "outputs": []
    },
    {
      "cell_type": "code",
      "source": [
        "df_concat.rename(columns={df_concat.columns[0]: '행정동'}, inplace=True)\n",
        "df_concat = df_concat.drop(columns = ['거주자_연령구간인구수', '여_거주자_연령구간인구수', '남_거주자_연령구간인구수'])\n",
        "df_concat.head(1)"
      ],
      "metadata": {
        "colab": {
          "base_uri": "https://localhost:8080/",
          "height": 81
        },
        "id": "O_ogTaEOeKKx",
        "outputId": "da8fbe2a-b08f-4476-80f8-615d0d2b950d"
      },
      "execution_count": 78,
      "outputs": [
        {
          "output_type": "execute_result",
          "data": {
            "text/plain": [
              "         행정동 거주자_총인구수 여_거주자_총인구수 남_거주자_총인구수\n",
              "0  서울특별시 강서구  558,886    291,260    267,626"
            ],
            "text/html": [
              "\n",
              "  <div id=\"df-aaa8edc4-49e2-4267-8232-216b1f2df1bb\" class=\"colab-df-container\">\n",
              "    <div>\n",
              "<style scoped>\n",
              "    .dataframe tbody tr th:only-of-type {\n",
              "        vertical-align: middle;\n",
              "    }\n",
              "\n",
              "    .dataframe tbody tr th {\n",
              "        vertical-align: top;\n",
              "    }\n",
              "\n",
              "    .dataframe thead th {\n",
              "        text-align: right;\n",
              "    }\n",
              "</style>\n",
              "<table border=\"1\" class=\"dataframe\">\n",
              "  <thead>\n",
              "    <tr style=\"text-align: right;\">\n",
              "      <th></th>\n",
              "      <th>행정동</th>\n",
              "      <th>거주자_총인구수</th>\n",
              "      <th>여_거주자_총인구수</th>\n",
              "      <th>남_거주자_총인구수</th>\n",
              "    </tr>\n",
              "  </thead>\n",
              "  <tbody>\n",
              "    <tr>\n",
              "      <th>0</th>\n",
              "      <td>서울특별시 강서구</td>\n",
              "      <td>558,886</td>\n",
              "      <td>291,260</td>\n",
              "      <td>267,626</td>\n",
              "    </tr>\n",
              "  </tbody>\n",
              "</table>\n",
              "</div>\n",
              "    <div class=\"colab-df-buttons\">\n",
              "\n",
              "  <div class=\"colab-df-container\">\n",
              "    <button class=\"colab-df-convert\" onclick=\"convertToInteractive('df-aaa8edc4-49e2-4267-8232-216b1f2df1bb')\"\n",
              "            title=\"Convert this dataframe to an interactive table.\"\n",
              "            style=\"display:none;\">\n",
              "\n",
              "  <svg xmlns=\"http://www.w3.org/2000/svg\" height=\"24px\" viewBox=\"0 -960 960 960\">\n",
              "    <path d=\"M120-120v-720h720v720H120Zm60-500h600v-160H180v160Zm220 220h160v-160H400v160Zm0 220h160v-160H400v160ZM180-400h160v-160H180v160Zm440 0h160v-160H620v160ZM180-180h160v-160H180v160Zm440 0h160v-160H620v160Z\"/>\n",
              "  </svg>\n",
              "    </button>\n",
              "\n",
              "  <style>\n",
              "    .colab-df-container {\n",
              "      display:flex;\n",
              "      gap: 12px;\n",
              "    }\n",
              "\n",
              "    .colab-df-convert {\n",
              "      background-color: #E8F0FE;\n",
              "      border: none;\n",
              "      border-radius: 50%;\n",
              "      cursor: pointer;\n",
              "      display: none;\n",
              "      fill: #1967D2;\n",
              "      height: 32px;\n",
              "      padding: 0 0 0 0;\n",
              "      width: 32px;\n",
              "    }\n",
              "\n",
              "    .colab-df-convert:hover {\n",
              "      background-color: #E2EBFA;\n",
              "      box-shadow: 0px 1px 2px rgba(60, 64, 67, 0.3), 0px 1px 3px 1px rgba(60, 64, 67, 0.15);\n",
              "      fill: #174EA6;\n",
              "    }\n",
              "\n",
              "    .colab-df-buttons div {\n",
              "      margin-bottom: 4px;\n",
              "    }\n",
              "\n",
              "    [theme=dark] .colab-df-convert {\n",
              "      background-color: #3B4455;\n",
              "      fill: #D2E3FC;\n",
              "    }\n",
              "\n",
              "    [theme=dark] .colab-df-convert:hover {\n",
              "      background-color: #434B5C;\n",
              "      box-shadow: 0px 1px 3px 1px rgba(0, 0, 0, 0.15);\n",
              "      filter: drop-shadow(0px 1px 2px rgba(0, 0, 0, 0.3));\n",
              "      fill: #FFFFFF;\n",
              "    }\n",
              "  </style>\n",
              "\n",
              "    <script>\n",
              "      const buttonEl =\n",
              "        document.querySelector('#df-aaa8edc4-49e2-4267-8232-216b1f2df1bb button.colab-df-convert');\n",
              "      buttonEl.style.display =\n",
              "        google.colab.kernel.accessAllowed ? 'block' : 'none';\n",
              "\n",
              "      async function convertToInteractive(key) {\n",
              "        const element = document.querySelector('#df-aaa8edc4-49e2-4267-8232-216b1f2df1bb');\n",
              "        const dataTable =\n",
              "          await google.colab.kernel.invokeFunction('convertToInteractive',\n",
              "                                                    [key], {});\n",
              "        if (!dataTable) return;\n",
              "\n",
              "        const docLinkHtml = 'Like what you see? Visit the ' +\n",
              "          '<a target=\"_blank\" href=https://colab.research.google.com/notebooks/data_table.ipynb>data table notebook</a>'\n",
              "          + ' to learn more about interactive tables.';\n",
              "        element.innerHTML = '';\n",
              "        dataTable['output_type'] = 'display_data';\n",
              "        await google.colab.output.renderOutput(dataTable, element);\n",
              "        const docLink = document.createElement('div');\n",
              "        docLink.innerHTML = docLinkHtml;\n",
              "        element.appendChild(docLink);\n",
              "      }\n",
              "    </script>\n",
              "  </div>\n",
              "\n",
              "\n",
              "    </div>\n",
              "  </div>\n"
            ],
            "application/vnd.google.colaboratory.intrinsic+json": {
              "type": "dataframe",
              "variable_name": "df_concat",
              "summary": "{\n  \"name\": \"df_concat\",\n  \"rows\": 21,\n  \"fields\": [\n    {\n      \"column\": \"\\ud589\\uc815\\ub3d9\",\n      \"properties\": {\n        \"dtype\": \"string\",\n        \"num_unique_values\": 21,\n        \"samples\": [\n          \"\\uc11c\\uc6b8\\ud2b9\\ubcc4\\uc2dc \\uac15\\uc11c\\uad6c\",\n          \" \\uacf5\\ud56d\\ub3d9\",\n          \" \\ubc1c\\uc0b0\\uc81c1\\ub3d9\"\n        ],\n        \"semantic_type\": \"\",\n        \"description\": \"\"\n      }\n    },\n    {\n      \"column\": \"\\uac70\\uc8fc\\uc790_\\ucd1d\\uc778\\uad6c\\uc218\",\n      \"properties\": {\n        \"dtype\": \"string\",\n        \"num_unique_values\": 21,\n        \"samples\": [\n          \"558,886\",\n          \"29,225\",\n          \"35,393\"\n        ],\n        \"semantic_type\": \"\",\n        \"description\": \"\"\n      }\n    },\n    {\n      \"column\": \"\\uc5ec_\\uac70\\uc8fc\\uc790_\\ucd1d\\uc778\\uad6c\\uc218\",\n      \"properties\": {\n        \"dtype\": \"string\",\n        \"num_unique_values\": 21,\n        \"samples\": [\n          \"291,260\",\n          \"14,487\",\n          \"18,700\"\n        ],\n        \"semantic_type\": \"\",\n        \"description\": \"\"\n      }\n    },\n    {\n      \"column\": \"\\ub0a8_\\uac70\\uc8fc\\uc790_\\ucd1d\\uc778\\uad6c\\uc218\",\n      \"properties\": {\n        \"dtype\": \"string\",\n        \"num_unique_values\": 21,\n        \"samples\": [\n          \"267,626\",\n          \"14,738\",\n          \"16,693\"\n        ],\n        \"semantic_type\": \"\",\n        \"description\": \"\"\n      }\n    }\n  ]\n}"
            }
          },
          "metadata": {},
          "execution_count": 78
        }
      ]
    },
    {
      "cell_type": "markdown",
      "source": [
        "## 기초수급자 데이터 행정동 전처리"
      ],
      "metadata": {
        "id": "OjWX0GM1POo1"
      }
    },
    {
      "cell_type": "code",
      "source": [
        "# 행정동 통일을 위해 unique 뽑아 보기\n",
        "\n",
        "unique_values = df_concat['행정동'].unique()\n",
        "print(unique_values)"
      ],
      "metadata": {
        "colab": {
          "base_uri": "https://localhost:8080/"
        },
        "id": "YcLQPYJlgnr_",
        "outputId": "3fe88b6b-e436-4086-cf79-6f7df37db2f7"
      },
      "execution_count": 47,
      "outputs": [
        {
          "output_type": "stream",
          "name": "stdout",
          "text": [
            "['서울특별시 강서구' ' 염창동' ' 등촌제1동' ' 등촌제2동' ' 등촌제3동' ' 화곡제1동' ' 화곡제2동' ' 화곡제3동'\n",
            " ' 화곡제4동' ' 화곡본동' ' 화곡제6동' ' 화곡제8동' ' 가양제1동' ' 가양제2동' ' 가양제3동' ' 발산제1동'\n",
            " ' 우장산동' ' 공항동' ' 방화제1동' ' 방화제2동' ' 방화제3동']\n"
          ]
        }
      ]
    },
    {
      "cell_type": "code",
      "source": [
        "basic.head()"
      ],
      "metadata": {
        "colab": {
          "base_uri": "https://localhost:8080/",
          "height": 206
        },
        "id": "aFPdGcw0Rjv_",
        "outputId": "e5d44d94-4bb8-437b-800f-cac161241f8f"
      },
      "execution_count": 63,
      "outputs": [
        {
          "output_type": "execute_result",
          "data": {
            "text/plain": [
              "         읍면동  합계_가구수 합계_수급권자수 일반수급자_가구수 일반수급자_수급권자수 시설수급자 수\n",
              "0        NaN     가구수    수급권자수       가구수       수급권자수   수급권자수\n",
              "1  서울특별시 강서구  18,219   25,187    18,075      25,043     144\n",
              "2        염창동     129      179       129         179       0\n",
              "3       등촌1동     163      227       163         227       0\n",
              "4       등촌2동     238      357       225         344      13"
            ],
            "text/html": [
              "\n",
              "  <div id=\"df-7ec4dbad-e300-419d-98aa-7030960ad523\" class=\"colab-df-container\">\n",
              "    <div>\n",
              "<style scoped>\n",
              "    .dataframe tbody tr th:only-of-type {\n",
              "        vertical-align: middle;\n",
              "    }\n",
              "\n",
              "    .dataframe tbody tr th {\n",
              "        vertical-align: top;\n",
              "    }\n",
              "\n",
              "    .dataframe thead th {\n",
              "        text-align: right;\n",
              "    }\n",
              "</style>\n",
              "<table border=\"1\" class=\"dataframe\">\n",
              "  <thead>\n",
              "    <tr style=\"text-align: right;\">\n",
              "      <th></th>\n",
              "      <th>읍면동</th>\n",
              "      <th>합계_가구수</th>\n",
              "      <th>합계_수급권자수</th>\n",
              "      <th>일반수급자_가구수</th>\n",
              "      <th>일반수급자_수급권자수</th>\n",
              "      <th>시설수급자 수</th>\n",
              "    </tr>\n",
              "  </thead>\n",
              "  <tbody>\n",
              "    <tr>\n",
              "      <th>0</th>\n",
              "      <td>NaN</td>\n",
              "      <td>가구수</td>\n",
              "      <td>수급권자수</td>\n",
              "      <td>가구수</td>\n",
              "      <td>수급권자수</td>\n",
              "      <td>수급권자수</td>\n",
              "    </tr>\n",
              "    <tr>\n",
              "      <th>1</th>\n",
              "      <td>서울특별시 강서구</td>\n",
              "      <td>18,219</td>\n",
              "      <td>25,187</td>\n",
              "      <td>18,075</td>\n",
              "      <td>25,043</td>\n",
              "      <td>144</td>\n",
              "    </tr>\n",
              "    <tr>\n",
              "      <th>2</th>\n",
              "      <td>염창동</td>\n",
              "      <td>129</td>\n",
              "      <td>179</td>\n",
              "      <td>129</td>\n",
              "      <td>179</td>\n",
              "      <td>0</td>\n",
              "    </tr>\n",
              "    <tr>\n",
              "      <th>3</th>\n",
              "      <td>등촌1동</td>\n",
              "      <td>163</td>\n",
              "      <td>227</td>\n",
              "      <td>163</td>\n",
              "      <td>227</td>\n",
              "      <td>0</td>\n",
              "    </tr>\n",
              "    <tr>\n",
              "      <th>4</th>\n",
              "      <td>등촌2동</td>\n",
              "      <td>238</td>\n",
              "      <td>357</td>\n",
              "      <td>225</td>\n",
              "      <td>344</td>\n",
              "      <td>13</td>\n",
              "    </tr>\n",
              "  </tbody>\n",
              "</table>\n",
              "</div>\n",
              "    <div class=\"colab-df-buttons\">\n",
              "\n",
              "  <div class=\"colab-df-container\">\n",
              "    <button class=\"colab-df-convert\" onclick=\"convertToInteractive('df-7ec4dbad-e300-419d-98aa-7030960ad523')\"\n",
              "            title=\"Convert this dataframe to an interactive table.\"\n",
              "            style=\"display:none;\">\n",
              "\n",
              "  <svg xmlns=\"http://www.w3.org/2000/svg\" height=\"24px\" viewBox=\"0 -960 960 960\">\n",
              "    <path d=\"M120-120v-720h720v720H120Zm60-500h600v-160H180v160Zm220 220h160v-160H400v160Zm0 220h160v-160H400v160ZM180-400h160v-160H180v160Zm440 0h160v-160H620v160ZM180-180h160v-160H180v160Zm440 0h160v-160H620v160Z\"/>\n",
              "  </svg>\n",
              "    </button>\n",
              "\n",
              "  <style>\n",
              "    .colab-df-container {\n",
              "      display:flex;\n",
              "      gap: 12px;\n",
              "    }\n",
              "\n",
              "    .colab-df-convert {\n",
              "      background-color: #E8F0FE;\n",
              "      border: none;\n",
              "      border-radius: 50%;\n",
              "      cursor: pointer;\n",
              "      display: none;\n",
              "      fill: #1967D2;\n",
              "      height: 32px;\n",
              "      padding: 0 0 0 0;\n",
              "      width: 32px;\n",
              "    }\n",
              "\n",
              "    .colab-df-convert:hover {\n",
              "      background-color: #E2EBFA;\n",
              "      box-shadow: 0px 1px 2px rgba(60, 64, 67, 0.3), 0px 1px 3px 1px rgba(60, 64, 67, 0.15);\n",
              "      fill: #174EA6;\n",
              "    }\n",
              "\n",
              "    .colab-df-buttons div {\n",
              "      margin-bottom: 4px;\n",
              "    }\n",
              "\n",
              "    [theme=dark] .colab-df-convert {\n",
              "      background-color: #3B4455;\n",
              "      fill: #D2E3FC;\n",
              "    }\n",
              "\n",
              "    [theme=dark] .colab-df-convert:hover {\n",
              "      background-color: #434B5C;\n",
              "      box-shadow: 0px 1px 3px 1px rgba(0, 0, 0, 0.15);\n",
              "      filter: drop-shadow(0px 1px 2px rgba(0, 0, 0, 0.3));\n",
              "      fill: #FFFFFF;\n",
              "    }\n",
              "  </style>\n",
              "\n",
              "    <script>\n",
              "      const buttonEl =\n",
              "        document.querySelector('#df-7ec4dbad-e300-419d-98aa-7030960ad523 button.colab-df-convert');\n",
              "      buttonEl.style.display =\n",
              "        google.colab.kernel.accessAllowed ? 'block' : 'none';\n",
              "\n",
              "      async function convertToInteractive(key) {\n",
              "        const element = document.querySelector('#df-7ec4dbad-e300-419d-98aa-7030960ad523');\n",
              "        const dataTable =\n",
              "          await google.colab.kernel.invokeFunction('convertToInteractive',\n",
              "                                                    [key], {});\n",
              "        if (!dataTable) return;\n",
              "\n",
              "        const docLinkHtml = 'Like what you see? Visit the ' +\n",
              "          '<a target=\"_blank\" href=https://colab.research.google.com/notebooks/data_table.ipynb>data table notebook</a>'\n",
              "          + ' to learn more about interactive tables.';\n",
              "        element.innerHTML = '';\n",
              "        dataTable['output_type'] = 'display_data';\n",
              "        await google.colab.output.renderOutput(dataTable, element);\n",
              "        const docLink = document.createElement('div');\n",
              "        docLink.innerHTML = docLinkHtml;\n",
              "        element.appendChild(docLink);\n",
              "      }\n",
              "    </script>\n",
              "  </div>\n",
              "\n",
              "\n",
              "<div id=\"df-80757cbe-2ab3-4c77-a5d1-2d58e1db0659\">\n",
              "  <button class=\"colab-df-quickchart\" onclick=\"quickchart('df-80757cbe-2ab3-4c77-a5d1-2d58e1db0659')\"\n",
              "            title=\"Suggest charts\"\n",
              "            style=\"display:none;\">\n",
              "\n",
              "<svg xmlns=\"http://www.w3.org/2000/svg\" height=\"24px\"viewBox=\"0 0 24 24\"\n",
              "     width=\"24px\">\n",
              "    <g>\n",
              "        <path d=\"M19 3H5c-1.1 0-2 .9-2 2v14c0 1.1.9 2 2 2h14c1.1 0 2-.9 2-2V5c0-1.1-.9-2-2-2zM9 17H7v-7h2v7zm4 0h-2V7h2v10zm4 0h-2v-4h2v4z\"/>\n",
              "    </g>\n",
              "</svg>\n",
              "  </button>\n",
              "\n",
              "<style>\n",
              "  .colab-df-quickchart {\n",
              "      --bg-color: #E8F0FE;\n",
              "      --fill-color: #1967D2;\n",
              "      --hover-bg-color: #E2EBFA;\n",
              "      --hover-fill-color: #174EA6;\n",
              "      --disabled-fill-color: #AAA;\n",
              "      --disabled-bg-color: #DDD;\n",
              "  }\n",
              "\n",
              "  [theme=dark] .colab-df-quickchart {\n",
              "      --bg-color: #3B4455;\n",
              "      --fill-color: #D2E3FC;\n",
              "      --hover-bg-color: #434B5C;\n",
              "      --hover-fill-color: #FFFFFF;\n",
              "      --disabled-bg-color: #3B4455;\n",
              "      --disabled-fill-color: #666;\n",
              "  }\n",
              "\n",
              "  .colab-df-quickchart {\n",
              "    background-color: var(--bg-color);\n",
              "    border: none;\n",
              "    border-radius: 50%;\n",
              "    cursor: pointer;\n",
              "    display: none;\n",
              "    fill: var(--fill-color);\n",
              "    height: 32px;\n",
              "    padding: 0;\n",
              "    width: 32px;\n",
              "  }\n",
              "\n",
              "  .colab-df-quickchart:hover {\n",
              "    background-color: var(--hover-bg-color);\n",
              "    box-shadow: 0 1px 2px rgba(60, 64, 67, 0.3), 0 1px 3px 1px rgba(60, 64, 67, 0.15);\n",
              "    fill: var(--button-hover-fill-color);\n",
              "  }\n",
              "\n",
              "  .colab-df-quickchart-complete:disabled,\n",
              "  .colab-df-quickchart-complete:disabled:hover {\n",
              "    background-color: var(--disabled-bg-color);\n",
              "    fill: var(--disabled-fill-color);\n",
              "    box-shadow: none;\n",
              "  }\n",
              "\n",
              "  .colab-df-spinner {\n",
              "    border: 2px solid var(--fill-color);\n",
              "    border-color: transparent;\n",
              "    border-bottom-color: var(--fill-color);\n",
              "    animation:\n",
              "      spin 1s steps(1) infinite;\n",
              "  }\n",
              "\n",
              "  @keyframes spin {\n",
              "    0% {\n",
              "      border-color: transparent;\n",
              "      border-bottom-color: var(--fill-color);\n",
              "      border-left-color: var(--fill-color);\n",
              "    }\n",
              "    20% {\n",
              "      border-color: transparent;\n",
              "      border-left-color: var(--fill-color);\n",
              "      border-top-color: var(--fill-color);\n",
              "    }\n",
              "    30% {\n",
              "      border-color: transparent;\n",
              "      border-left-color: var(--fill-color);\n",
              "      border-top-color: var(--fill-color);\n",
              "      border-right-color: var(--fill-color);\n",
              "    }\n",
              "    40% {\n",
              "      border-color: transparent;\n",
              "      border-right-color: var(--fill-color);\n",
              "      border-top-color: var(--fill-color);\n",
              "    }\n",
              "    60% {\n",
              "      border-color: transparent;\n",
              "      border-right-color: var(--fill-color);\n",
              "    }\n",
              "    80% {\n",
              "      border-color: transparent;\n",
              "      border-right-color: var(--fill-color);\n",
              "      border-bottom-color: var(--fill-color);\n",
              "    }\n",
              "    90% {\n",
              "      border-color: transparent;\n",
              "      border-bottom-color: var(--fill-color);\n",
              "    }\n",
              "  }\n",
              "</style>\n",
              "\n",
              "  <script>\n",
              "    async function quickchart(key) {\n",
              "      const quickchartButtonEl =\n",
              "        document.querySelector('#' + key + ' button');\n",
              "      quickchartButtonEl.disabled = true;  // To prevent multiple clicks.\n",
              "      quickchartButtonEl.classList.add('colab-df-spinner');\n",
              "      try {\n",
              "        const charts = await google.colab.kernel.invokeFunction(\n",
              "            'suggestCharts', [key], {});\n",
              "      } catch (error) {\n",
              "        console.error('Error during call to suggestCharts:', error);\n",
              "      }\n",
              "      quickchartButtonEl.classList.remove('colab-df-spinner');\n",
              "      quickchartButtonEl.classList.add('colab-df-quickchart-complete');\n",
              "    }\n",
              "    (() => {\n",
              "      let quickchartButtonEl =\n",
              "        document.querySelector('#df-80757cbe-2ab3-4c77-a5d1-2d58e1db0659 button');\n",
              "      quickchartButtonEl.style.display =\n",
              "        google.colab.kernel.accessAllowed ? 'block' : 'none';\n",
              "    })();\n",
              "  </script>\n",
              "</div>\n",
              "\n",
              "    </div>\n",
              "  </div>\n"
            ],
            "application/vnd.google.colaboratory.intrinsic+json": {
              "type": "dataframe",
              "variable_name": "basic",
              "summary": "{\n  \"name\": \"basic\",\n  \"rows\": 22,\n  \"fields\": [\n    {\n      \"column\": \"\\uc74d\\uba74\\ub3d9\",\n      \"properties\": {\n        \"dtype\": \"string\",\n        \"num_unique_values\": 21,\n        \"samples\": [\n          \"\\uc11c\\uc6b8\\ud2b9\\ubcc4\\uc2dc \\uac15\\uc11c\\uad6c\",\n          \"\\uacf5\\ud56d\\ub3d9\",\n          \"\\ubc1c\\uc0b01\\ub3d9\"\n        ],\n        \"semantic_type\": \"\",\n        \"description\": \"\"\n      }\n    },\n    {\n      \"column\": \"\\ud569\\uacc4_\\uac00\\uad6c\\uc218\",\n      \"properties\": {\n        \"dtype\": \"string\",\n        \"num_unique_values\": 22,\n        \"samples\": [\n          \"\\uac00\\uad6c\\uc218\",\n          \"166\",\n          \"403\"\n        ],\n        \"semantic_type\": \"\",\n        \"description\": \"\"\n      }\n    },\n    {\n      \"column\": \"\\ud569\\uacc4_\\uc218\\uae09\\uad8c\\uc790\\uc218\",\n      \"properties\": {\n        \"dtype\": \"string\",\n        \"num_unique_values\": 22,\n        \"samples\": [\n          \"\\uc218\\uae09\\uad8c\\uc790\\uc218\",\n          \"234\",\n          \"555\"\n        ],\n        \"semantic_type\": \"\",\n        \"description\": \"\"\n      }\n    },\n    {\n      \"column\": \"\\uc77c\\ubc18\\uc218\\uae09\\uc790_\\uac00\\uad6c\\uc218\",\n      \"properties\": {\n        \"dtype\": \"string\",\n        \"num_unique_values\": 22,\n        \"samples\": [\n          \"\\uac00\\uad6c\\uc218\",\n          \"162\",\n          \"380\"\n        ],\n        \"semantic_type\": \"\",\n        \"description\": \"\"\n      }\n    },\n    {\n      \"column\": \"\\uc77c\\ubc18\\uc218\\uae09\\uc790_\\uc218\\uae09\\uad8c\\uc790\\uc218\",\n      \"properties\": {\n        \"dtype\": \"string\",\n        \"num_unique_values\": 22,\n        \"samples\": [\n          \"\\uc218\\uae09\\uad8c\\uc790\\uc218\",\n          \"230\",\n          \"532\"\n        ],\n        \"semantic_type\": \"\",\n        \"description\": \"\"\n      }\n    },\n    {\n      \"column\": \"\\uc2dc\\uc124\\uc218\\uae09\\uc790 \\uc218\",\n      \"properties\": {\n        \"dtype\": \"string\",\n        \"num_unique_values\": 14,\n        \"samples\": [\n          \"5\",\n          \"3\",\n          \"\\uc218\\uae09\\uad8c\\uc790\\uc218\"\n        ],\n        \"semantic_type\": \"\",\n        \"description\": \"\"\n      }\n    }\n  ]\n}"
            }
          },
          "metadata": {},
          "execution_count": 63
        }
      ]
    },
    {
      "cell_type": "code",
      "source": [
        "print(basic['읍면동'].unique())"
      ],
      "metadata": {
        "colab": {
          "base_uri": "https://localhost:8080/"
        },
        "id": "CG3GHPqwRaDG",
        "outputId": "9d5879cd-82e1-404d-97d9-240280ca649b"
      },
      "execution_count": 64,
      "outputs": [
        {
          "output_type": "stream",
          "name": "stdout",
          "text": [
            "[nan '서울특별시 강서구' '염창동' '등촌1동' '등촌2동' '등촌3동' '화곡1동' '화곡2동' '화곡3동' '화곡4동'\n",
            " '화곡본동' '화곡6동' '화곡8동' '가양1동' '가양2동' '가양3동' '발산1동' '우장산동' '공항동' '방화1동'\n",
            " '방화2동' '방화3동']\n"
          ]
        }
      ]
    },
    {
      "cell_type": "code",
      "source": [
        "# 필요 없는 column 삭제 및 이름 재지정\n",
        "\n",
        "basic.columns = ['읍면동', '합계_가구수', '합계_수급권자수', '일반수급자_가구수', '일반수급자_수급권자수', '시설수급자 수']\n",
        "basic = basic.drop(basic.index[0])\n",
        "basic.at[1, '읍면동'] = '서울특별시 강서구'"
      ],
      "metadata": {
        "id": "Dv_MDwd1Zbkp"
      },
      "execution_count": 67,
      "outputs": []
    },
    {
      "cell_type": "code",
      "source": [
        "# 기초수급자 데이터 행정동 전처리\n",
        "\n",
        "basic.rename(columns={basic.columns[0]: '행정동'}, inplace=True)\n",
        "\n",
        "def add_je(name):\n",
        "    import re\n",
        "    # 정규 표현식을 사용하여 '숫자동' 패턴을 찾고, '제숫자동'으로 변경\n",
        "    new_name = re.sub(r'(\\d)동', r'제\\1동', name)\n",
        "    return new_name\n",
        "\n",
        "basic['행정동'] = basic['행정동'].apply(add_je)"
      ],
      "metadata": {
        "id": "6E9c-xH_h35f"
      },
      "execution_count": 69,
      "outputs": []
    },
    {
      "cell_type": "markdown",
      "source": [
        "## 1인 가구 전처리"
      ],
      "metadata": {
        "id": "ox89r2ORQLh2"
      }
    },
    {
      "cell_type": "code",
      "source": [
        "# 두 번째 열(B)의 모든 값들을 더함\n",
        "sum_column = one_man.iloc[:, 1].sum()  # 'iloc[:, 1]'로 두 번째 열을 선택\n",
        "\n",
        "# 새로운 데이터 (여기서는 두 번째 열의 합)를 첫 번째 행에 추가하기 위해\n",
        "# 새로운 데이터 프레임을 생성하고 원본 데이터 프레임과 결합\n",
        "new_row = pd.DataFrame({one_man.columns[1]: sum_column}, index=[0])  # 새로운 행 데이터 프레임 생성\n",
        "\n",
        "# 새로운 행을 첫 번째 위치에 추가하기 위해 concat 사용\n",
        "one_updated = pd.concat([new_row, one_man], ignore_index=True)"
      ],
      "metadata": {
        "id": "o_rsgJzyi84I"
      },
      "execution_count": 72,
      "outputs": []
    },
    {
      "cell_type": "code",
      "source": [
        "one_updated .at[0, '행정동'] = '서울특별시 강서구'"
      ],
      "metadata": {
        "id": "CrehPsmOjXT-"
      },
      "execution_count": 73,
      "outputs": []
    },
    {
      "cell_type": "code",
      "source": [
        "one_updated.drop(columns = ['데이터기준일자'], inplace=True)"
      ],
      "metadata": {
        "id": "JZTyAjPrTIWk"
      },
      "execution_count": 75,
      "outputs": []
    },
    {
      "cell_type": "markdown",
      "source": [
        "## 데이터 병합\n",
        "\n",
        "- 연령별 인구 현황 : df_concat\n",
        "- 기초수급자 현황 : basic\n",
        "- 1인 가구 현황 : one_updated"
      ],
      "metadata": {
        "id": "8NCsen34TQMc"
      }
    },
    {
      "cell_type": "code",
      "source": [
        "print(\"1인 가구 현황 데이터 : \",one_updated .shape)\n",
        "print(\"기초 수급자 현황 데이터 : \",basic.shape)\n",
        "print(\"인구 현황 데이터 : \",df_concat.shape)"
      ],
      "metadata": {
        "colab": {
          "base_uri": "https://localhost:8080/"
        },
        "id": "3rMzT9ucfVnq",
        "outputId": "40763107-2800-4705-a15b-2d0bf0b4397c"
      },
      "execution_count": 80,
      "outputs": [
        {
          "output_type": "stream",
          "name": "stdout",
          "text": [
            "1인 가구 현황 데이터 :  (21, 2)\n",
            "기초 수급자 현황 데이터 :  (21, 6)\n",
            "인구 현황 데이터 :  (21, 4)\n"
          ]
        }
      ]
    },
    {
      "cell_type": "code",
      "source": [
        "# 1인 가구와 기초 수급자 데이터 프레임을 '행정동'을 기준으로 합치기\n",
        "merge_1 = pd.merge(one_updated , basic, on='행정동', how='inner')\n",
        "\n",
        "merge_1.shape"
      ],
      "metadata": {
        "colab": {
          "base_uri": "https://localhost:8080/"
        },
        "id": "hqO4se_jO5Vz",
        "outputId": "6d6ad8e8-a86b-40cc-acb7-98042378d568"
      },
      "execution_count": 81,
      "outputs": [
        {
          "output_type": "execute_result",
          "data": {
            "text/plain": [
              "(21, 7)"
            ]
          },
          "metadata": {},
          "execution_count": 81
        }
      ]
    },
    {
      "cell_type": "code",
      "source": [
        "# df_concat의 '행정동' 열에서 앞뒤 공백 제거\n",
        "df_concat['행정동'] = df_concat['행정동'].str.strip()\n",
        "\n",
        "# merge_1의 '행정동' 열에서 앞뒤 공백 제거 (필요한 경우)\n",
        "merge_1['행정동'] = merge_1['행정동'].str.strip()\n",
        "\n",
        "# 이제 두 데이터 프레임 병합 시도\n",
        "df_merge = pd.merge(df_concat, merge_1, on='행정동', how='inner')\n",
        "\n",
        "# 병합된 데이터 프레임의 크기 확인\n",
        "print(df_merge.shape)"
      ],
      "metadata": {
        "colab": {
          "base_uri": "https://localhost:8080/"
        },
        "id": "2IKNZn94kSHC",
        "outputId": "de27f378-6973-43c9-f48c-8bba512d095c"
      },
      "execution_count": 97,
      "outputs": [
        {
          "output_type": "stream",
          "name": "stdout",
          "text": [
            "(21, 10)\n"
          ]
        }
      ]
    },
    {
      "cell_type": "code",
      "source": [
        "print(\"병합 데이터 널 데이터 수 : \", df_merge.isnull().sum().sum())"
      ],
      "metadata": {
        "colab": {
          "base_uri": "https://localhost:8080/"
        },
        "id": "q7_v17ZzW5fX",
        "outputId": "1b3359f5-0840-4371-9ab3-63380c57982f"
      },
      "execution_count": 99,
      "outputs": [
        {
          "output_type": "stream",
          "name": "stdout",
          "text": [
            "병합 데이터 널 데이터 수 :  0\n"
          ]
        }
      ]
    },
    {
      "cell_type": "code",
      "source": [
        "df_merge.to_csv('df_merge.csv', index=False, encoding='utf-8-sig')"
      ],
      "metadata": {
        "id": "XLVa8kacfMkz"
      },
      "execution_count": 100,
      "outputs": []
    }
  ]
}